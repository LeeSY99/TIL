{
 "cells": [
  {
   "cell_type": "code",
   "execution_count": null,
   "id": "431eb102",
   "metadata": {},
   "outputs": [],
   "source": [
    "import torch\n",
    "import matplotlib.pyplot as plt\n",
    "import numpy as np\n",
    "\n",
    "import torchvision\n",
    "import torchvision.transforms as transforms\n",
    "\n",
    "import torch.nn as nn\n",
    "import torch.optim as optim"
   ]
  },
  {
   "cell_type": "code",
   "execution_count": null,
   "id": "6c0f40e2",
   "metadata": {},
   "outputs": [],
   "source": [
    "## 배치 정규화"
   ]
  },
  {
   "cell_type": "code",
   "execution_count": null,
   "id": "a1352433",
   "metadata": {},
   "outputs": [],
   "source": [
    "trainset = torchvision.datasets.FashionMNIST(root='../chap08/data/', train=True, \n",
    "                                        download=True, \n",
    "                                        transform=transforms.ToTensor())"
   ]
  },
  {
   "cell_type": "code",
   "execution_count": null,
   "id": "c1e8ab7b",
   "metadata": {},
   "outputs": [],
   "source": [
    "batch_size = 4\n",
    "trainloader = torch.utils.data.DataLoader(trainset, batch_size=batch_size, shuffle=True)"
   ]
  },
  {
   "cell_type": "code",
   "execution_count": null,
   "id": "4434e7af",
   "metadata": {},
   "outputs": [],
   "source": [
    "dataiter = iter(trainloader)\n",
    "images, labels = next(dataiter)\n",
    "\n",
    "print(images.shape)\n",
    "print(images[0].shape)\n",
    "print(labels[0].item())"
   ]
  },
  {
   "cell_type": "code",
   "execution_count": null,
   "id": "37aa96f2",
   "metadata": {},
   "outputs": [],
   "source": [
    "def imshow(img, title):    \n",
    "    plt.figure(figsize=(batch_size * 4, 4))\n",
    "    plt.axis('off')\n",
    "    plt.imshow(np.transpose(img, (1, 2, 0)))\n",
    "    plt.title(title)\n",
    "    plt.show()"
   ]
  },
  {
   "cell_type": "code",
   "execution_count": null,
   "id": "5f0dc2ec",
   "metadata": {},
   "outputs": [],
   "source": [
    "def show_batch_images(dataloader):\n",
    "    images, labels = next(iter(dataloader))\n",
    "    \n",
    "    img = torchvision.utils.make_grid(images)\n",
    "    imshow(img, title=[str(x.item()) for x in labels])\n",
    "    \n",
    "    return images, labels"
   ]
  },
  {
   "cell_type": "code",
   "execution_count": null,
   "id": "772e219d",
   "metadata": {},
   "outputs": [],
   "source": [
    "images, labels = show_batch_images(trainloader)"
   ]
  },
  {
   "cell_type": "code",
   "execution_count": null,
   "id": "1f734bd3",
   "metadata": {},
   "outputs": [],
   "source": [
    "class NormalNet(nn.Module):\n",
    "    def __init__(self):\n",
    "        super().__init__()\n",
    "        self.classifier = nn.Sequential(\n",
    "            nn.Linear(784,48),\n",
    "            nn.ReLU(),\n",
    "            nn.Linear(48,24),\n",
    "            nn.ReLU(),\n",
    "            nn.Linear(24,10),\n",
    "        )\n",
    "    \n",
    "    def forward(self, x):\n",
    "        x = x.view(x.size(0),-1)\n",
    "        x = self.classifier(x)\n",
    "        return x"
   ]
  },
  {
   "cell_type": "code",
   "execution_count": null,
   "id": "910ffdd1",
   "metadata": {},
   "outputs": [],
   "source": [
    "class BNNet(nn.Module):\n",
    "    def __init__(self):\n",
    "        super().__init__()\n",
    "        self.classifier = nn.Sequential(\n",
    "            nn.Linear(784,48),\n",
    "            nn.BatchNorm1d(48),\n",
    "            nn.ReLU(),\n",
    "            nn.Linear(48,24),\n",
    "            nn.BatchNorm1d(24),\n",
    "            nn.ReLU(),\n",
    "            nn.Linear(24,10),\n",
    "        )\n",
    "    \n",
    "    def forward(self, x):\n",
    "        x = x.view(x.size(0),-1)\n",
    "        x = self.classifier(x)\n",
    "        return x"
   ]
  },
  {
   "cell_type": "code",
   "execution_count": null,
   "id": "05ca2b3d",
   "metadata": {},
   "outputs": [],
   "source": [
    "model = NormalNet()\n",
    "print(model)"
   ]
  },
  {
   "cell_type": "code",
   "execution_count": null,
   "id": "166bc293",
   "metadata": {},
   "outputs": [],
   "source": [
    "model_bn = BNNet()\n",
    "print(model_bn)"
   ]
  },
  {
   "cell_type": "code",
   "execution_count": null,
   "id": "68cd333d",
   "metadata": {},
   "outputs": [],
   "source": [
    "batch_size=512\n",
    "trainloader = torch.utils.data.DataLoader(trainset, batch_size=batch_size, shuffle=True)"
   ]
  },
  {
   "cell_type": "code",
   "execution_count": null,
   "id": "21175cc4",
   "metadata": {},
   "outputs": [],
   "source": [
    "loss_fn = nn.CrossEntropyLoss()\n",
    "opt = optim.SGD(model.parameters(), lr=0.01)\n",
    "opt_bn = optim.SGD(model_bn.parameters(), lr=0.01)"
   ]
  },
  {
   "cell_type": "code",
   "execution_count": null,
   "id": "1219fd24",
   "metadata": {},
   "outputs": [],
   "source": [
    "loss_arr = []\n",
    "loss_bn_arr = []\n",
    "max_epochs = 20\n",
    "\n",
    "for epoch in range(max_epochs):\n",
    "    for i, data in enumerate(trainloader, 0):\n",
    "        inputs, labels = data\n",
    "        opt.zero_grad()\n",
    "        outputs = model(inputs)\n",
    "        loss = loss_fn(outputs, labels)\n",
    "        loss.backward()\n",
    "        opt.step()\n",
    "\n",
    "        opt_bn.zero_grad()\n",
    "        outputs_bn = model_bn(inputs)\n",
    "        loss_bn = loss_fn(outputs_bn, labels)\n",
    "        loss_bn.backward()\n",
    "        opt_bn.step()\n",
    "\n",
    "        loss_arr.append(loss.item())\n",
    "        loss_bn_arr.append(loss_bn.item())\n",
    "\n"
   ]
  },
  {
   "cell_type": "code",
   "execution_count": null,
   "id": "84e82431",
   "metadata": {},
   "outputs": [],
   "source": [
    "plt.figure(figsize=(5, 3)) \n",
    "plt.plot(loss_arr, 'yellow', label='Normal')\n",
    "plt.plot(loss_bn_arr, 'blue', label='BatchNorm')    \n",
    "# plt.title(f'Epoch {epoch+1}/{max_epochs}')\n",
    "plt.legend()\n",
    "plt.show()"
   ]
  },
  {
   "cell_type": "code",
   "execution_count": null,
   "id": "d60971a3",
   "metadata": {},
   "outputs": [],
   "source": [
    "## dropout"
   ]
  },
  {
   "cell_type": "code",
   "execution_count": null,
   "id": "3fb1aaf6",
   "metadata": {},
   "outputs": [],
   "source": [
    "N = 50\n",
    "noise = 0.2\n",
    "x_train = torch.unsqueeze(torch.linspace(-1,1,N),1)\n",
    "y_train = x_train + noise * torch.normal(torch.zeros(N,1), torch.ones(N,1))\n",
    "                                         \n",
    "x_test = torch.unsqueeze(torch.linspace(-1, 1, N), 1)\n",
    "y_test = x_test + noise * torch.normal(torch.zeros(N, 1), torch.ones(N, 1))"
   ]
  },
  {
   "cell_type": "code",
   "execution_count": null,
   "id": "72efbc26",
   "metadata": {},
   "outputs": [],
   "source": [
    "plt.scatter(x_train.data.numpy(), y_train.data.numpy(), c='purple', alpha=0.5, label='train')\n",
    "plt.scatter(x_test.data.numpy(), y_test.data.numpy(), c='yellow', alpha=0.5, label='test')\n",
    "plt.legend()\n",
    "plt.show()"
   ]
  },
  {
   "cell_type": "code",
   "execution_count": null,
   "id": "dc77e927",
   "metadata": {},
   "outputs": [],
   "source": [
    "N_h = 100\n",
    "model = torch.nn.Sequential(\n",
    "    torch.nn.Linear(1, N_h),\n",
    "    torch.nn.ReLU(),\n",
    "    torch.nn.Linear(N_h, N_h),\n",
    "    torch.nn.ReLU(),\n",
    "    torch.nn.Linear(N_h, 1),\n",
    ")\n",
    "\n",
    "model_dropout = torch.nn.Sequential(\n",
    "    torch.nn.Linear(1, N_h),\n",
    "    torch.nn.Dropout(0.2),\n",
    "    torch.nn.ReLU(),\n",
    "    torch.nn.Linear(N_h, N_h),\n",
    "    torch.nn.Dropout(0.2),\n",
    "    torch.nn.ReLU(),\n",
    "    torch.nn.Linear(N_h, 1),\n",
    ")"
   ]
  },
  {
   "cell_type": "code",
   "execution_count": null,
   "id": "30cd78eb",
   "metadata": {},
   "outputs": [],
   "source": [
    "opt = torch.optim.Adam(model.parameters(), lr=0.01)\n",
    "opt_dropout = torch.optim.Adam(model_dropout.parameters(), lr=0.01)\n",
    "loss_fn = torch.nn.MSELoss()"
   ]
  },
  {
   "cell_type": "code",
   "execution_count": null,
   "id": "5a4f0881",
   "metadata": {},
   "outputs": [],
   "source": [
    "max_epochs = 1000\n",
    "for epoch in range(max_epochs):    \n",
    "    pred = model(x_train) \n",
    "    loss = loss_fn(pred, y_train)\n",
    "    opt.zero_grad()\n",
    "    loss.backward()\n",
    "    opt.step()\n",
    "    \n",
    "    pred_dropout = model_dropout(x_train)\n",
    "    loss_dropout = loss_fn(pred_dropout, y_train)\n",
    "    opt_dropout.zero_grad()\n",
    "    loss_dropout.backward()\n",
    "    opt_dropout.step()    \n",
    "    \n",
    "    if epoch % 50 == 0:        \n",
    "        model.eval()\n",
    "        model_dropout.eval()\n",
    "        \n",
    "        test_pred = model(x_test)\n",
    "        test_loss = loss_fn(test_pred, y_test)\n",
    "        \n",
    "        test_pred_dropout = model_dropout(x_test)\n",
    "        test_loss_dropout = loss_fn(test_pred_dropout, y_test)\n",
    "        \n",
    "        plt.scatter(x_train.data.numpy(), y_train.data.numpy(), c='purple', alpha=0.5, label='train')\n",
    "        plt.scatter(x_test.data.numpy(), y_test.data.numpy(), c='yellow', alpha=0.5, label='test')\n",
    "        plt.plot(x_test.data.numpy(), test_pred.data.numpy(), 'b-', lw=3, label='normal')\n",
    "        plt.plot(x_test.data.numpy(), test_pred_dropout.data.numpy(), 'g--', lw=3,  label='dropout')\n",
    "        \n",
    "        plt.title('Epoch %d, Loss = %0.4f, Loss with dropout = %0.4f' % (epoch, test_loss, test_loss_dropout))\n",
    "        plt.legend()\n",
    "        model.train()\n",
    "        model_dropout.train()        \n",
    "        plt.pause(0.05)"
   ]
  },
  {
   "cell_type": "code",
   "execution_count": null,
   "id": "3e0a359a",
   "metadata": {},
   "outputs": [],
   "source": [
    "## 드롭아웃으로 인하여 훈련 데이터에 덜 민감하게 반응하는걸 관찰할 수 있음"
   ]
  },
  {
   "cell_type": "code",
   "execution_count": null,
   "id": "56d52aa1",
   "metadata": {},
   "outputs": [],
   "source": [
    "##조기종료"
   ]
  },
  {
   "cell_type": "code",
   "execution_count": null,
   "id": "9d5d7a6e",
   "metadata": {},
   "outputs": [],
   "source": []
  }
 ],
 "metadata": {
  "kernelspec": {
   "display_name": "study",
   "language": "python",
   "name": "python3"
  },
  "language_info": {
   "codemirror_mode": {
    "name": "ipython",
    "version": 3
   },
   "file_extension": ".py",
   "mimetype": "text/x-python",
   "name": "python",
   "nbconvert_exporter": "python",
   "pygments_lexer": "ipython3",
   "version": "3.12.11"
  }
 },
 "nbformat": 4,
 "nbformat_minor": 5
}
